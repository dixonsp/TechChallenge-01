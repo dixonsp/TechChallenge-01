{
 "cells": [
  {
   "cell_type": "code",
   "execution_count": 9,
   "metadata": {},
   "outputs": [],
   "source": [
    "from selenium import webdriver #importa módulo webdriver para realizar webscraping\n",
    "from selenium.webdriver.chrome.options import Options #importa módulo Options para definição de parametros para a execução do browser chrome\n",
    "from fastapi import HTTPException #importa módulo para o tratamento de exeções  HTTP\n",
    "import json #importa módulo para tratamento de dados JSON\n",
    "from selenium.webdriver.common.by import By #importa módulo By que traz alguns parãmetros para navegação durante o scraping\n",
    "import time #importa o módulo time para ajudar a trabalhar com a tempo\n",
    "import datetime #importa o módulo datetime para ajudar a trabalhar com datas\n",
    "import pandas as pd #importa módulo pandas para trabalhar com dados de maneira simples\n",
    "from lxml import etree #importa lxlm para trabalhar com conteúdo HTML\n",
    "from io import StringIO #importa a biblioteca io para trabalhar com o sistema de arquivos\n",
    "import pyarrow\n",
    "import os\n",
    "import sys\n",
    "\n",
    "root = os.path.abspath(\"./..\")\n",
    "sys.path.append(root)\n",
    "from model.negocio import Negocio, eTipo\n"
   ]
  },
  {
   "cell_type": "code",
   "execution_count": 9,
   "metadata": {},
   "outputs": [],
   "source": [
    "with open(\"config/parametros.json\", \"r\") as file: #cria contexto (with) para abertura de arquivo com parametros para fechar logo após o bloco\n",
    "    data = json.load(file) #carrega os dados do arquivo de parâmetros\n",
    "\n",
    "anoInicio = data['ano_inicio_scraping'] #recupera a data de início para webscraping\n",
    "anoTermino = datetime.date.today().year #configura a data de término para webscraping= Ano Atual (no laço FOR o iterador não executa o último número, ou seja, se o ano termino for 2024 o iterador só processa até o ano de 2023. O FOR é inclusivo no limite inferior e exclusivo no limite superior->nao incluindo o último número do RANGE)"
   ]
  },
  {
   "cell_type": "code",
   "execution_count": 10,
   "metadata": {},
   "outputs": [],
   "source": [
    "def save_html_content(negocio:Negocio, content:str, ano:int):\n",
    "    \"\"\"\n",
    "    Função para salvar conteúdo HTML para posterior tratamento\n",
    "\n",
    "    Args:\n",
    "        negocio (str): o nome do negocio: (producao, processamento, comercializacao, importacao, exportacao)\n",
    "        content (str): conteúdo HTML\n",
    "        ano (int): ano da safra\n",
    "        tipo_negocio (str - opcional com default=None): especialização de negocio\n",
    "    \n",
    "        \n",
    "\n",
    "    Returns:\n",
    "        str: caminho do arquivo gerado.\n",
    "\n",
    "    Raises:\n",
    "        HTTPException: Se ocorrer qualquer erro durante o processo de gravação.\n",
    "    \"\"\"\n",
    "\n",
    "    try: #inicia tratamento de erro\n",
    "        if negocio.tipo in(\"Producao\", \"Comercializacao\"):\n",
    "            arquivo = f\"arquivos/{negocio.tipo}_{ano}.html\"\n",
    "        elif negocio.tipo in (\"Processamento\", \"Importacao\", \"Exportacao\"):\n",
    "                if (negocio.subtipo!=None):\n",
    "                    arquivo = f\"arquivos/{negocio.tipo}_{negocio.subtipo}_{ano}.html\"\n",
    "                else:\n",
    "                    raise HTTPException(status_code=500, detail=f\"subtipo_negocio nao informado para o tipo_negocio {negocio.tipo}\")\n",
    "        else:\n",
    "            raise HTTPException(status_code=500, detail=f\"tipo_negocio `{negocio.tipo}` invalido\")\n",
    "        \n",
    "        with open(arquivo, \"w\", encoding='utf-8') as file:\n",
    "            file.write(content)\n",
    "\n",
    "        return arquivo\n",
    "    \n",
    "    except Exception as e:\n",
    "        raise HTTPException(status_code=500, detail=str(e))"
   ]
  },
  {
   "cell_type": "code",
   "execution_count": 11,
   "metadata": {},
   "outputs": [],
   "source": [
    "def read_html_content(negocio:Negocio, ano:int = None):\n",
    "    try: #inicia tratamento de erro\n",
    "        if negocio.tipo in(\"Producao\", \"Comercializacao\"):\n",
    "            arquivo = f\"arquivos/{negocio.tipo}_{ano}.html\"\n",
    "        elif negocio.tipo in (\"Processamento\", \"Importacao\", \"Exportacao\"):\n",
    "            if (negocio.subtipo!=None):\n",
    "                arquivo = f\"arquivos/{negocio.tipo}_{negocio.subtipo}_{ano}.html\"\n",
    "            else:\n",
    "                raise HTTPException(status_code=500, detail=f\"subtipo_negocio nao informado para o tipo_negocio {negocio.tipo}\")\n",
    "        else:\n",
    "            raise HTTPException(status_code=500, detail=f\"tipo_negocio `{negocio.tipo}` invalido\")\n",
    "        \n",
    "        with open(arquivo, \"r\", encoding='utf-8') as file:\n",
    "            return file\n",
    "    except Exception as e:\n",
    "        raise HTTPException(status_code=500, detail=str(e))\n",
    "\n"
   ]
  },
  {
   "cell_type": "code",
   "execution_count": 12,
   "metadata": {},
   "outputs": [],
   "source": [
    "def getContent(driver:webdriver, url:str):\n",
    "    driver.get(url=url)\n",
    "    time.sleep(2)\n",
    "    return driver.page_source\n"
   ]
  },
  {
   "cell_type": "code",
   "execution_count": 13,
   "metadata": {},
   "outputs": [],
   "source": [
    "def Scrap(driver:webdriver, negocio:Negocio, anoInicio:int = None, anoTermino:int = None):\n",
    "    if negocio.tipo in(\"Producao\", \"Comercializacao\"):\n",
    "        print(f\"inicio:{anoInicio} - termino{anoTermino}\")\n",
    "        for ano in range(anoInicio, anoTermino):\n",
    "            print(f\"ano->{ano}\")\n",
    "            url = f\"http://vitibrasil.cnpuv.embrapa.br/index.php?ano={ano}&opcao=opt_0{negocio.codigo}\"\n",
    "            html_content = getContent(driver=driver, url=url)\n",
    "            save_html_content(negocio, html_content, ano=ano)\n",
    "    elif negocio.tipo in (\"Processamento\", \"Importacao\", \"Exportacao\"):\n",
    "        for codigo_subtipo, nome_subtipo in negocio.subtipo:\n",
    "            for ano in range(anoInicio, anoTermino):\n",
    "                url = f\"http://vitibrasil.cnpuv.embrapa.br/index.php?ano={ano}&opcao=opt_0{negocio.codigo}&subopcao=subopt_0{codigo_subtipo}\"\n",
    "                html_content = getContent(driver=driver, url=url)\n",
    "                save_html_content(negocio=negocio, content=html_content, ano=ano)\n",
    "    else:\n",
    "        raise HTTPException(status_code=500, detail=f\"tipo_negocio `{negocio.tipo}` invalido\")"
   ]
  },
  {
   "cell_type": "code",
   "execution_count": 14,
   "metadata": {},
   "outputs": [],
   "source": [
    "def CreateParquetFile(nome_tipo:str, ano:int, table_elements:str, nome_subtipo:str=None):\n",
    "    # Lista para armazenar os DataFrames\n",
    "    dfs = []\n",
    "\n",
    "    for i, table in enumerate(table_elements):\n",
    "        # Obter o HTML da tabela\n",
    "        table_html = etree.tostring(table, pretty_print=True, encoding='unicode')\n",
    "        \n",
    "        # Converter o HTML da tabela em DataFrame usando pandas\n",
    "        df = pd.read_html(StringIO(table_html))[0]\n",
    "        dfs.append(df)\n",
    "\n",
    "    # Opcional: combinar todos os DataFrames em um único DataFrame\n",
    "    combined_df = pd.concat(dfs, ignore_index=True)\n",
    "\n",
    "    if nome_tipo in(\"Producao\", \"Comercializacao\"):\n",
    "        arquivo_parquet = f\"data/{nome_tipo}_{ano}.parquet\"\n",
    "    elif nome_tipo in (\"Processamento\", \"Importacao\", \"Exportacao\"):\n",
    "        arquivo_parquet = f\"data/{nome_tipo}_{nome_subtipo}_{ano}.parquet\"\n",
    "    else:\n",
    "        raise HTTPException(status_code=500, detail=f\"tipo_negocio `{nome_subtipo}` invalido\")\n",
    "    \n",
    "    combined_df.to_parquet(arquivo_parquet, engine='pyarrow')"
   ]
  },
  {
   "cell_type": "code",
   "execution_count": 15,
   "metadata": {},
   "outputs": [],
   "source": [
    "def ProcessHtmlFileToParquet(nome_tipo:str, ano:int, nome_subtipo:str=None):\n",
    "    if nome_tipo in(\"Producao\", \"Comercializacao\"):\n",
    "        arquivo_html = f\"arquivos/{nome_tipo}_{ano}.html\"\n",
    "    elif nome_tipo in (\"Processamento\", \"Importacao\", \"Exportacao\"):\n",
    "        arquivo_html = f\"arquivos/{nome_tipo}_{nome_subtipo}_{ano}.html\"\n",
    "\n",
    "    with open(arquivo_html, \"r\", encoding=\"utf-8\") as htm_file:\n",
    "        html_content = htm_file.read()\n",
    "        parser = etree.HTMLParser()\n",
    "        tree = etree.fromstring(html_content, parser)\n",
    "        table_elements = tree.xpath('//table[contains(@class, \"tb_base\") and contains(@class, \"tb_dados\")]')\n",
    "        num_tables = len(table_elements)\n",
    "        CreateParquetFile(nome_tipo=nome_tipo, ano=ano, table_elements=table_elements, nome_subtipo=nome_subtipo)"
   ]
  },
  {
   "cell_type": "code",
   "execution_count": 16,
   "metadata": {},
   "outputs": [],
   "source": [
    "options = Options()\n",
    "#executa o navegador sem a UI\n",
    "options.add_argument(\"--headless\")\n",
    "#disabilita o sandbox\n",
    "options.add_argument(\"--no-sandbox\")\n",
    "#disabilita dev shm\n",
    "options.add_argument(\"--disable-dev-shm-usage\")\n"
   ]
  },
  {
   "cell_type": "code",
   "execution_count": 17,
   "metadata": {},
   "outputs": [],
   "source": [
    "driver = webdriver.Chrome(options=options)"
   ]
  },
  {
   "cell_type": "code",
   "execution_count": 18,
   "metadata": {},
   "outputs": [
    {
     "name": "stdout",
     "output_type": "stream",
     "text": [
      "Entrando no contexto de Producao\n",
      "inicio:2022 - termino2024\n",
      "ano->2022\n",
      "ano->2023\n",
      "Saindo do contexto de Producao\n"
     ]
    }
   ],
   "source": [
    "with Negocio(eTipo.PRODUCAO) as negocio:\n",
    "        Scrap(driver=driver, negocio=negocio, anoInicio=2022, anoTermino=2024)"
   ]
  },
  {
   "cell_type": "code",
   "execution_count": 19,
   "metadata": {},
   "outputs": [],
   "source": [
    "driver.quit()"
   ]
  },
  {
   "cell_type": "code",
   "execution_count": 20,
   "metadata": {},
   "outputs": [
    {
     "name": "stdout",
     "output_type": "stream",
     "text": [
      "Entrando no contexto de Producao\n",
      "Saindo do contexto de Producao\n"
     ]
    }
   ],
   "source": [
    "with Negocio(eTipo.PRODUCAO) as negocio:\n",
    "        for ano in range(2022, 2024):\n",
    "            ProcessHtmlFileToParquet(negocio.tipo, ano=ano)"
   ]
  }
 ],
 "metadata": {
  "kernelspec": {
   "display_name": ".venvMAC",
   "language": "python",
   "name": "python3"
  },
  "language_info": {
   "codemirror_mode": {
    "name": "ipython",
    "version": 3
   },
   "file_extension": ".py",
   "mimetype": "text/x-python",
   "name": "python",
   "nbconvert_exporter": "python",
   "pygments_lexer": "ipython3",
   "version": "3.12.4"
  },
  "orig_nbformat": 4
 },
 "nbformat": 4,
 "nbformat_minor": 2
}
