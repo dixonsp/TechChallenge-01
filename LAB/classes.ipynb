{
 "cells": [
  {
   "cell_type": "code",
   "execution_count": 1,
   "metadata": {},
   "outputs": [],
   "source": [
    "from abc import ABC, abstractmethod\n",
    "from enum import Enum\n",
    "\n",
    "\n",
    "class eTipo(Enum): # enumerador para limitar os Negocios para as constantes\n",
    "    PRODUCAO = {\"Codigo\": 2, \"Nome\": \"Producao\", \"Subtipo\":None}\n",
    "    PROCESSAMENTO = {\"Codigo\": 3, \"Nome\":\"Processamento\", \"Subtipo\":[\n",
    "    {\"Codigo\":1, \"Nome\":\"Viníferas\"}\n",
    "    , {\"Codigo\":2, \"Nome\":\"Americanas e híbridas\"}\n",
    "    , {\"Codigo\":3, \"Nome\":\"Uvas de mesa\"}\n",
    "    , {\"Codigo\":4, \"Nome\":\"Sem classificação\"}\n",
    "    ]}\n",
    "    COMERCIALIZACAO = {\"Codigo\": 4, \"Nome\":\"Comercializacao\", \"Subtipo\":None}\n",
    "    IMPORTACAO = {\"Codigo\":5, \"Nome\":\"Importacao\", \"Subtipo\":[\n",
    "        {\"Codigo\":1, \"Nome\":\"Vinhos de mesa\"}\n",
    "        , {\"Codigo\":2, \"Nome\":\"Espumantes\"}\n",
    "        , {\"Codigo\":3, \"Nome\":\"Uvas frescas\"}\n",
    "        , {\"Codigo\":4, \"Nome\":\"Uvas passas\"}\n",
    "        , {\"Codigo\":5, \"Nome\":\"Suco de uva\"}\n",
    "        ]}\n",
    "    EXPORTACAO = {\"Codigo\":6, \"Nome\":\"Exportacao\", \"Subtipo\":[\n",
    "    {\"Codigo\":1, \"Nome\":\"Vinhos de mesa\"}\n",
    "    , {\"Codigo\":2, \"Nome\":\"Espumantes\"}\n",
    "    , {\"Codigo\":3, \"Nome\":\"Uvas frescas\"}\n",
    "    , {\"Codigo\":4, \"Nome\":\"Suco de uva\"}\n",
    "    ]}\n",
    "    \n",
    "\"\"\"\n",
    "    A classe Negocio define o tipo de análise (Produção, Processamento, Comercialização, Importação, Exportação)\n",
    "\"\"\"\n",
    "class Negocio():\n",
    "    \n",
    "    def __init__(self, negocio:eTipo):\n",
    "        self.negocio=negocio.value['Nome']\n",
    "        self.codigo=negocio.value['Codigo']\n",
    "        self.nome=negocio.value['Nome']\n",
    "        self.tipo=negocio.value['Nome']\n",
    "        self.subtipo=negocio.value['Subtipo']\n",
    "   \n"
   ]
  },
  {
   "cell_type": "code",
   "execution_count": 2,
   "metadata": {},
   "outputs": [],
   "source": [
    "negocio = Negocio(eTipo.IMPORTACAO)"
   ]
  },
  {
   "cell_type": "code",
   "execution_count": 3,
   "metadata": {},
   "outputs": [
    {
     "name": "stdout",
     "output_type": "stream",
     "text": [
      "[{'Codigo': 1, 'Nome': 'Vinhos de mesa'}, {'Codigo': 2, 'Nome': 'Espumantes'}, {'Codigo': 3, 'Nome': 'Uvas frescas'}, {'Codigo': 4, 'Nome': 'Uvas passas'}, {'Codigo': 5, 'Nome': 'Suco de uva'}]\n"
     ]
    }
   ],
   "source": [
    "print(f\"{negocio.subtipo}\")"
   ]
  },
  {
   "cell_type": "code",
   "execution_count": 203,
   "metadata": {},
   "outputs": [
    {
     "name": "stdout",
     "output_type": "stream",
     "text": [
      "1-Viníferas\n",
      "2-Americanas e híbridas\n",
      "3-Uvas de mesa\n",
      "4-Sem classificação\n"
     ]
    }
   ],
   "source": [
    "for subtipo in negocio.Subtipo:\n",
    "    print(f\"{subtipo['Codigo']}-{subtipo['Nome']}\")"
   ]
  },
  {
   "cell_type": "code",
   "execution_count": 162,
   "metadata": {},
   "outputs": [],
   "source": [
    "negocio = Negocio(eNegocio.PROCESSAMENTO)"
   ]
  },
  {
   "cell_type": "code",
   "execution_count": 163,
   "metadata": {},
   "outputs": [
    {
     "name": "stdout",
     "output_type": "stream",
     "text": [
      "3:Processamento   -   [{'Codigo': 1, 'Nome': 'Viníferas'}, {'Codigo': 2, 'Nome': 'Americanas e híbridas'}, {'Codigo': 3, 'Nome': 'Uvas de mesa'}, {'Codigo': 4, 'Nome': 'Sem classificação'}]\n"
     ]
    }
   ],
   "source": [
    "print(f\"{negocio.Codigo}:{negocio.Nome}   -   {negocio.tipo_negocio}\")"
   ]
  },
  {
   "cell_type": "code",
   "execution_count": 164,
   "metadata": {},
   "outputs": [
    {
     "name": "stdout",
     "output_type": "stream",
     "text": [
      "Codigo - Nome\n",
      "Codigo - Nome\n",
      "Codigo - Nome\n",
      "Codigo - Nome\n"
     ]
    }
   ],
   "source": [
    "for codigo_tipo_negocio, nome_tipo_negocio in negocio.tipo_negocio:\n",
    "    print(f\"{codigo_tipo_negocio} - {nome_tipo_negocio}\")"
   ]
  },
  {
   "cell_type": "code",
   "execution_count": 118,
   "metadata": {},
   "outputs": [
    {
     "name": "stdout",
     "output_type": "stream",
     "text": [
      "<class '__main__.Negocio'>\n"
     ]
    }
   ],
   "source": [
    "print(type(negocio))"
   ]
  },
  {
   "cell_type": "code",
   "execution_count": 104,
   "metadata": {},
   "outputs": [
    {
     "name": "stdout",
     "output_type": "stream",
     "text": [
      "1:Producao   -   1:Viniferas\n"
     ]
    }
   ],
   "source": [
    "print(f\"{negocio.tipo_negocio.Codigo}:{negocio.tipo_negocio.Nome}   -   {negocio.subtipo_negocio.Codigo}:{negocio.subtipo_negocio.Nome}\")"
   ]
  },
  {
   "cell_type": "code",
   "execution_count": 105,
   "metadata": {},
   "outputs": [],
   "source": [
    "negocio = Negocio(eTipo_Negocio.PRODUCAO, eSubtipo_Negocio_Processamento.UVAS_DE_MESA)"
   ]
  },
  {
   "cell_type": "code",
   "execution_count": 106,
   "metadata": {},
   "outputs": [
    {
     "name": "stdout",
     "output_type": "stream",
     "text": [
      "1:Producao   -   3:Uvas_de_mesa\n"
     ]
    }
   ],
   "source": [
    "print(f\"{negocio.tipo_negocio.Codigo}:{negocio.tipo_negocio.Nome}   -   {negocio.subtipo_negocio.Codigo}:{negocio.subtipo_negocio.Nome}\")"
   ]
  },
  {
   "cell_type": "code",
   "execution_count": 110,
   "metadata": {},
   "outputs": [],
   "source": [
    "negocio = Negocio(eTipo_Negocio.PRODUCAO, eSubtipo_Negocio_Importacao.SUCO_DE_UVA)"
   ]
  },
  {
   "cell_type": "code",
   "execution_count": 111,
   "metadata": {},
   "outputs": [
    {
     "name": "stdout",
     "output_type": "stream",
     "text": [
      "1:Producao   -   5:Suco_de_uva\n"
     ]
    }
   ],
   "source": [
    "print(f\"{negocio.tipo_negocio.Codigo}:{negocio.tipo_negocio.Nome}   -   {negocio.subtipo_negocio.Codigo}:{negocio.subtipo_negocio.Nome}\")"
   ]
  }
 ],
 "metadata": {
  "kernelspec": {
   "display_name": ".venvMAC",
   "language": "python",
   "name": "python3"
  },
  "language_info": {
   "codemirror_mode": {
    "name": "ipython",
    "version": 3
   },
   "file_extension": ".py",
   "mimetype": "text/x-python",
   "name": "python",
   "nbconvert_exporter": "python",
   "pygments_lexer": "ipython3",
   "version": "3.12.4"
  },
  "orig_nbformat": 4
 },
 "nbformat": 4,
 "nbformat_minor": 2
}
