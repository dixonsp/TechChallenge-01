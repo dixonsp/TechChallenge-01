{
 "cells": [
  {
   "cell_type": "code",
   "execution_count": 38,
   "metadata": {},
   "outputs": [
    {
     "name": "stdout",
     "output_type": "stream",
     "text": [
      "{'ano_inicio_scraping': '1970'}\n"
     ]
    }
   ],
   "source": [
    "import json\n",
    "with open(\"../config/parametros.json\", \"r\") as file:\n",
    "    data = json.load(file)\n",
    "    print(data)"
   ]
  },
  {
   "cell_type": "code",
   "execution_count": 39,
   "metadata": {},
   "outputs": [
    {
     "name": "stdout",
     "output_type": "stream",
     "text": [
      "1970\n"
     ]
    }
   ],
   "source": [
    "print(data['ano_inicio_scraping'])"
   ]
  },
  {
   "cell_type": "code",
   "execution_count": 43,
   "metadata": {},
   "outputs": [
    {
     "name": "stdout",
     "output_type": "stream",
     "text": [
      "1\n",
      "2\n",
      "3\n",
      "4\n",
      "5\n"
     ]
    }
   ],
   "source": [
    "for i in range(1, 5+1):\n",
    "    print(i)"
   ]
  },
  {
   "cell_type": "code",
   "execution_count": 46,
   "metadata": {},
   "outputs": [
    {
     "name": "stdout",
     "output_type": "stream",
     "text": [
      "Viníferas\n",
      "Americanas e híbridas\n",
      "Uvas de mesa\n",
      "Sem classificação\n"
     ]
    }
   ],
   "source": [
    "produto = \"processamento\"\n",
    "dicionario_subproduto = {\n",
    "        \"Viníferas\":\"1\"\n",
    "        , \"Americanas e híbridas\":\"2\"\n",
    "        , \"Uvas de mesa\":\"3\"\n",
    "        , \"Sem classificação\":\"4\"\n",
    "        }\n",
    "for subproduto in dicionario_subproduto.items():\n",
    "    print(subproduto[0])"
   ]
  }
 ],
 "metadata": {
  "kernelspec": {
   "display_name": ".venvMAC",
   "language": "python",
   "name": "python3"
  },
  "language_info": {
   "codemirror_mode": {
    "name": "ipython",
    "version": 3
   },
   "file_extension": ".py",
   "mimetype": "text/x-python",
   "name": "python",
   "nbconvert_exporter": "python",
   "pygments_lexer": "ipython3",
   "version": "3.12.4"
  },
  "orig_nbformat": 4
 },
 "nbformat": 4,
 "nbformat_minor": 2
}
