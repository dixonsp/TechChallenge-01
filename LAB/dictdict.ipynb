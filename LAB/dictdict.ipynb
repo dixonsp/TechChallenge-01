{
 "cells": [
  {
   "cell_type": "code",
   "execution_count": 2,
   "metadata": {},
   "outputs": [],
   "source": [
    "PROCESSAMENTO = {\"Codigo\": 3, \"Nome\":\"Processamento\", \"Tipo_Negocio\":[\n",
    "    {\"Codigo\":1, \"Nome\":\"Viníferas\"}\n",
    "    , {\"Codigo\":2, \"Nome\":\"Americanas e híbridas\"}\n",
    "    , {\"Codigo\":3, \"Nome\":\"Uvas de mesa\"}\n",
    "    , {\"Codigo\":4, \"Nome\":\"Sem classificação\"}\n",
    "    ]}"
   ]
  }
 ],
 "metadata": {
  "kernelspec": {
   "display_name": ".venvMAC",
   "language": "python",
   "name": "python3"
  },
  "language_info": {
   "codemirror_mode": {
    "name": "ipython",
    "version": 3
   },
   "file_extension": ".py",
   "mimetype": "text/x-python",
   "name": "python",
   "nbconvert_exporter": "python",
   "pygments_lexer": "ipython3",
   "version": "3.12.4"
  },
  "orig_nbformat": 4
 },
 "nbformat": 4,
 "nbformat_minor": 2
}
