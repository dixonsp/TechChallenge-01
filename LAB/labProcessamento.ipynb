{
 "cells": [
  {
   "cell_type": "code",
   "execution_count": 1,
   "metadata": {},
   "outputs": [],
   "source": [
    "import os\n",
    "import findspark\n",
    "import setuptools\n",
    "import datetime\n",
    "from pyspark.sql.functions import lit\n",
    "from pyspark.sql import SparkSession\n",
    "from pyspark.sql.types import DoubleType, StringType, LongType, IntegerType\n",
    "from pyspark.sql import functions as f\n",
    "from pyspark.sql.functions import col\n",
    "from functools import reduce"
   ]
  },
  {
   "cell_type": "code",
   "execution_count": 2,
   "metadata": {},
   "outputs": [],
   "source": [
    "os.environ[\"JAVA_HOME\"] = \"/Library/Java/JavaVirtualMachines/jdk-22.jdk/Contents/Home\"\n",
    "os.environ[\"SPARK_HOME\"] = \"/Users/adilsonyamaguchi/Apps/spark\""
   ]
  },
  {
   "cell_type": "code",
   "execution_count": 3,
   "metadata": {},
   "outputs": [],
   "source": [
    "findspark.init()"
   ]
  },
  {
   "cell_type": "code",
   "execution_count": 4,
   "metadata": {},
   "outputs": [
    {
     "name": "stderr",
     "output_type": "stream",
     "text": [
      "24/07/23 22:52:16 WARN Utils: Your hostname, MacBook-Pro-de-Adilson.local resolves to a loopback address: 127.0.0.1; using 192.168.15.102 instead (on interface en0)\n",
      "24/07/23 22:52:16 WARN Utils: Set SPARK_LOCAL_IP if you need to bind to another address\n",
      "Setting default log level to \"WARN\".\n",
      "To adjust logging level use sc.setLogLevel(newLevel). For SparkR, use setLogLevel(newLevel).\n",
      "24/07/23 22:52:17 WARN NativeCodeLoader: Unable to load native-hadoop library for your platform... using builtin-java classes where applicable\n"
     ]
    }
   ],
   "source": [
    "spark = SparkSession.builder \\\n",
    "    .master('local[2]') \\\n",
    "    .appName(\"ProcessarParquet\") \\\n",
    "    .config(\"spark.ui.port\", '4050') \\\n",
    "    .getOrCreate()"
   ]
  },
  {
   "cell_type": "code",
   "execution_count": 5,
   "metadata": {},
   "outputs": [
    {
     "data": {
      "text/html": [
       "\n",
       "            <div>\n",
       "                <p><b>SparkSession - in-memory</b></p>\n",
       "                \n",
       "        <div>\n",
       "            <p><b>SparkContext</b></p>\n",
       "\n",
       "            <p><a href=\"http://192.168.15.102:4050\">Spark UI</a></p>\n",
       "\n",
       "            <dl>\n",
       "              <dt>Version</dt>\n",
       "                <dd><code>v3.5.1</code></dd>\n",
       "              <dt>Master</dt>\n",
       "                <dd><code>local[2]</code></dd>\n",
       "              <dt>AppName</dt>\n",
       "                <dd><code>ProcessarParquet</code></dd>\n",
       "            </dl>\n",
       "        </div>\n",
       "        \n",
       "            </div>\n",
       "        "
      ],
      "text/plain": [
       "<pyspark.sql.session.SparkSession at 0x106f22840>"
      ]
     },
     "execution_count": 5,
     "metadata": {},
     "output_type": "execute_result"
    },
    {
     "name": "stderr",
     "output_type": "stream",
     "text": [
      "24/07/23 22:52:29 WARN GarbageCollectionMetrics: To enable non-built-in garbage collector(s) List(G1 Concurrent GC), users should configure it(them) to spark.eventLog.gcMetrics.youngGenerationGarbageCollectors or spark.eventLog.gcMetrics.oldGenerationGarbageCollectors\n"
     ]
    }
   ],
   "source": [
    "spark"
   ]
  },
  {
   "cell_type": "code",
   "execution_count": 23,
   "metadata": {},
   "outputs": [],
   "source": [
    "eTipo_PRODUCAO = {\"codigo\": 2, \"nome\": \"Producao\", \"subtipo\":None}\n",
    "eTipo_PROCESSAMENTO = {\"codigo\": 3, \"nome\":\"Processamento\", \"subtipo\":[\n",
    "    {\"codigo\":1, \"nome\":\"Viníferas\"}\n",
    "    , {\"codigo\":2, \"nome\":\"Americanas e híbridas\"}\n",
    "    , {\"codigo\":3, \"nome\":\"Uvas de mesa\"}\n",
    "    , {\"codigo\":4, \"nome\":\"Sem classificação\"}\n",
    "    ]}\n",
    "eTipo_COMERCIALIZACAO = {\"codigo\": 4, \"nome\":\"Comercializacao\", \"subtipo\":None}\n",
    "eTipo_IMPORTACAO = {\"codigo\":5, \"nome\":\"Importacao\", \"subtipo\":[\n",
    "        {\"codigo\":1, \"nome\":\"Vinhos de mesa\"}\n",
    "        , {\"codigo\":2, \"nome\":\"Espumantes\"}\n",
    "        , {\"codigo\":3, \"nome\":\"Uvas frescas\"}\n",
    "        , {\"codigo\":4, \"nome\":\"Uvas passas\"}\n",
    "        , {\"codigo\":5, \"nome\":\"Suco de uva\"}\n",
    "        ]}\n",
    "eTipo_EXPORTACAO = {\"codigo\":6, \"nome\":\"Exportacao\", \"subtipo\":[\n",
    "    {\"codigo\":1, \"nome\":\"Vinhos de mesa\"}\n",
    "    , {\"codigo\":2, \"nome\":\"Espumantes\"}\n",
    "    , {\"codigo\":3, \"nome\":\"Uvas frescas\"}\n",
    "    , {\"codigo\":4, \"nome\":\"Suco de uva\"}\n",
    "    ]}"
   ]
  },
  {
   "cell_type": "code",
   "execution_count": 25,
   "metadata": {},
   "outputs": [
    {
     "name": "stdout",
     "output_type": "stream",
     "text": [
      "Processamento\n"
     ]
    }
   ],
   "source": [
    "tipo = eTipo_PROCESSAMENTO\n",
    "print(tipo[\"nome\"])"
   ]
  },
  {
   "cell_type": "code",
   "execution_count": 27,
   "metadata": {},
   "outputs": [],
   "source": [
    "from selenium import webdriver # importa módulo webdriver para realizar webscraping\n",
    "from selenium.webdriver.chrome.options import Options # importa módulo Options para definição de parametros para a execução do browser chrome\n",
    "from fastapi import HTTPException # importa módulo para o tratamento de exeções  HTTP\n",
    "import json # importa módulo para tratamento de dados JSON\n",
    "from selenium.webdriver.common.by import By # importa módulo By que traz alguns parãmetros para navegação durante o scraping\n",
    "import time # importa o módulo time para ajudar a trabalhar com a tempo\n",
    "from datetime import datetime # importa o módulo datetime para ajudar a trabalhar com datas\n",
    "import pandas as pd # importa módulo pandas para trabalhar com dados de maneira simples\n",
    "from lxml import etree # importa lxlm para trabalhar com conteúdo HTML\n",
    "from io import StringIO # importa a biblioteca io para trabalhar com o sistema de arquivos\n",
    "import pyarrow\n",
    "import os\n",
    "import sys"
   ]
  },
  {
   "cell_type": "code",
   "execution_count": 135,
   "metadata": {},
   "outputs": [],
   "source": [
    "#tipo = eTipo_PRODUCAO\n",
    "tipo = eTipo_COMERCIALIZACAO\n",
    "anoInicio = 1970\n",
    "anoTermino = 2024\n",
    "\n",
    "dataframes_ano = []\n",
    "\n",
    "for ano in range(anoInicio, anoTermino+1):\n",
    "\n",
    "    file_name_html = f\"../data/html/{tipo[\"nome\"]}_{ano}.html\"\n",
    "\n",
    "    with open(file_name_html, mode=\"r\", encoding='utf-8') as html:\n",
    "        html_content = html.read()\n",
    "        parser = etree.HTMLParser()\n",
    "        tree = etree.HTML(html_content, parser)\n",
    "        table_elements = tree.xpath('//table[contains(@class, \"tb_base\") and contains(@class, \"tb_dados\")]')\n",
    "\n",
    "        # Lista para armazenar os DataFrames\n",
    "        dfs = []\n",
    "\n",
    "        for i, table in enumerate(table_elements):\n",
    "            # Obter o HTML da tabela\n",
    "            table_html = etree.tostring(table, pretty_print=True, encoding='unicode')\n",
    "            \n",
    "            # Converter o HTML da tabela em DataFrame usando pandas\n",
    "            df = pd.read_html(StringIO(table_html))[0]\n",
    "            df[\"ano\"] = ano\n",
    "            df[\"tipo\"] = tipo[\"nome\"]\n",
    "            dfs.append(df)\n",
    "        \n",
    "    dataframes_ano.append(pd.concat(dfs, ignore_index=True))\n",
    "\n",
    "df = pd.concat(dataframes_ano, ignore_index=True)\n",
    "     \n",
    "arquivo_parquet = f\"../data/parquet/{tipo['nome']}_{anoInicio}{f'_{anoTermino}' if anoTermino is not None and anoTermino != anoInicio else ''}.parquet\"\n",
    "df.to_parquet(arquivo_parquet, engine='pyarrow')"
   ]
  },
  {
   "cell_type": "code",
   "execution_count": 116,
   "metadata": {},
   "outputs": [
    {
     "data": {
      "text/plain": [
       "array([1970, 1971, 1972, 1973, 1974, 1975, 1976, 1977, 1978, 1979, 1980,\n",
       "       1981, 1982, 1983, 1984, 1985, 1986, 1987, 1988, 1989, 1990, 1991,\n",
       "       1992, 1993, 1994, 1995, 1996, 1997, 1998, 1999, 2000, 2001, 2002,\n",
       "       2003, 2004, 2005, 2006, 2007, 2008, 2009, 2010, 2011, 2012, 2013,\n",
       "       2014, 2015, 2016, 2017, 2018, 2019, 2020, 2021, 2022, 2023, 2024])"
      ]
     },
     "execution_count": 116,
     "metadata": {},
     "output_type": "execute_result"
    }
   ],
   "source": [
    "df['ano'].unique()"
   ]
  },
  {
   "cell_type": "code",
   "execution_count": 138,
   "metadata": {},
   "outputs": [
    {
     "name": "stdout",
     "output_type": "stream",
     "text": [
      "codigo=1 nome=Vinhos de mesa\n",
      "codigo=2 nome=Espumantes\n",
      "codigo=3 nome=Uvas frescas\n",
      "codigo=4 nome=Suco de uva\n"
     ]
    }
   ],
   "source": [
    "#tipo = eTipo_PROCESSAMENTO\n",
    "#tipo = eTipo_IMPORTACAO\n",
    "tipo = eTipo_EXPORTACAO\n",
    "anoInicio = 1970\n",
    "anoTermino = 2024\n",
    "\n",
    "\n",
    "listadf=[]\n",
    "dataframes_tipo = []\n",
    "\n",
    "for subtipo in tipo['subtipo']:\n",
    "    print(f\"codigo={subtipo['codigo']} nome={subtipo['nome']}\")\n",
    "\n",
    "    dataframes_ano = []\n",
    "    for ano in range(anoInicio, anoTermino+1):\n",
    "\n",
    "        file_name_html = f\"../data/html/{tipo[\"nome\"]}_{subtipo['nome']}_{ano}.html\"\n",
    "\n",
    "        with open(file_name_html, mode=\"r\", encoding='utf-8') as html:\n",
    "            html_content = html.read()\n",
    "            parser = etree.HTMLParser()\n",
    "            tree = etree.HTML(html_content, parser)\n",
    "            table_elements = tree.xpath('//table[contains(@class, \"tb_base\") and contains(@class, \"tb_dados\")]')\n",
    "\n",
    "            # Lista para armazenar os DataFrames\n",
    "            dfs = []\n",
    "\n",
    "            for i, table in enumerate(table_elements):\n",
    "                # Obter o HTML da tabela\n",
    "                table_html = etree.tostring(table, pretty_print=True, encoding='unicode')\n",
    "                \n",
    "                # Converter o HTML da tabela em DataFrame usando pandas\n",
    "                df = pd.read_html(StringIO(table_html))[0]\n",
    "                df[\"ano\"] = ano\n",
    "                df[\"tipo\"] = subtipo['nome']\n",
    "                dfs.append(df)\n",
    "            \n",
    "        dataframes_ano.append(pd.concat(dfs, ignore_index=True))\n",
    "        \n",
    "    dataframes_tipo = pd.concat(dataframes_ano)\n",
    "    arquivo_parquet = f\"../data/parquet/{tipo['nome']}_{subtipo['nome']}_{anoInicio}{f'_{anoTermino}' if anoTermino is not None and anoTermino != anoInicio else ''}.parquet\"\n",
    "    df.to_parquet(arquivo_parquet, engine='pyarrow')"
   ]
  },
  {
   "cell_type": "code",
   "execution_count": 132,
   "metadata": {},
   "outputs": [
    {
     "ename": "IndexError",
     "evalue": "list index out of range",
     "output_type": "error",
     "traceback": [
      "\u001b[0;31m---------------------------------------------------------------------------\u001b[0m",
      "\u001b[0;31mIndexError\u001b[0m                                Traceback (most recent call last)",
      "\u001b[1;32m/Users/adilsonyamaguchi/Desktop/TechChallenge_01/LAB/labProcessamento.ipynb Célula 13\u001b[0m line \u001b[0;36m1\n\u001b[0;32m----> <a href='vscode-notebook-cell:/Users/adilsonyamaguchi/Desktop/TechChallenge_01/LAB/labProcessamento.ipynb#X15sZmlsZQ%3D%3D?line=0'>1</a>\u001b[0m listadf[\u001b[39m4\u001b[39;49m][\u001b[39m'\u001b[39m\u001b[39mtipo\u001b[39m\u001b[39m'\u001b[39m]\u001b[39m.\u001b[39munique()\n",
      "\u001b[0;31mIndexError\u001b[0m: list index out of range"
     ]
    }
   ],
   "source": [
    "listadf[4]['tipo'].unique()"
   ]
  },
  {
   "cell_type": "code",
   "execution_count": 59,
   "metadata": {},
   "outputs": [
    {
     "data": {
      "text/html": [
       "<div>\n",
       "<style scoped>\n",
       "    .dataframe tbody tr th:only-of-type {\n",
       "        vertical-align: middle;\n",
       "    }\n",
       "\n",
       "    .dataframe tbody tr th {\n",
       "        vertical-align: top;\n",
       "    }\n",
       "\n",
       "    .dataframe thead th {\n",
       "        text-align: right;\n",
       "    }\n",
       "</style>\n",
       "<table border=\"1\" class=\"dataframe\">\n",
       "  <thead>\n",
       "    <tr style=\"text-align: right;\">\n",
       "      <th></th>\n",
       "      <th>Cultivar</th>\n",
       "      <th>Quantidade (Kg)</th>\n",
       "      <th>ano</th>\n",
       "      <th>Sem definição</th>\n",
       "    </tr>\n",
       "  </thead>\n",
       "  <tbody>\n",
       "    <tr>\n",
       "      <th>0</th>\n",
       "      <td>TINTAS</td>\n",
       "      <td>10.448.228</td>\n",
       "      <td>1970</td>\n",
       "      <td>NaN</td>\n",
       "    </tr>\n",
       "    <tr>\n",
       "      <th>1</th>\n",
       "      <td>Alicante Bouschet</td>\n",
       "      <td>-</td>\n",
       "      <td>1970</td>\n",
       "      <td>NaN</td>\n",
       "    </tr>\n",
       "    <tr>\n",
       "      <th>2</th>\n",
       "      <td>Ancelota</td>\n",
       "      <td>-</td>\n",
       "      <td>1970</td>\n",
       "      <td>NaN</td>\n",
       "    </tr>\n",
       "    <tr>\n",
       "      <th>3</th>\n",
       "      <td>Aramon</td>\n",
       "      <td>-</td>\n",
       "      <td>1970</td>\n",
       "      <td>NaN</td>\n",
       "    </tr>\n",
       "    <tr>\n",
       "      <th>4</th>\n",
       "      <td>Alfrocheiro</td>\n",
       "      <td>-</td>\n",
       "      <td>1970</td>\n",
       "      <td>NaN</td>\n",
       "    </tr>\n",
       "    <tr>\n",
       "      <th>...</th>\n",
       "      <td>...</td>\n",
       "      <td>...</td>\n",
       "      <td>...</td>\n",
       "      <td>...</td>\n",
       "    </tr>\n",
       "    <tr>\n",
       "      <th>8</th>\n",
       "      <td>Italia</td>\n",
       "      <td>3.733</td>\n",
       "      <td>1970</td>\n",
       "      <td>NaN</td>\n",
       "    </tr>\n",
       "    <tr>\n",
       "      <th>9</th>\n",
       "      <td>Rubi (Itália, Itália Ro)</td>\n",
       "      <td>-</td>\n",
       "      <td>1970</td>\n",
       "      <td>NaN</td>\n",
       "    </tr>\n",
       "    <tr>\n",
       "      <th>10</th>\n",
       "      <td>Total</td>\n",
       "      <td>60.876</td>\n",
       "      <td>1970</td>\n",
       "      <td>NaN</td>\n",
       "    </tr>\n",
       "    <tr>\n",
       "      <th>0</th>\n",
       "      <td>NaN</td>\n",
       "      <td>3.675.463</td>\n",
       "      <td>1970</td>\n",
       "      <td>Sem classificação</td>\n",
       "    </tr>\n",
       "    <tr>\n",
       "      <th>1</th>\n",
       "      <td>NaN</td>\n",
       "      <td>3.675.463</td>\n",
       "      <td>1970</td>\n",
       "      <td>Total</td>\n",
       "    </tr>\n",
       "  </tbody>\n",
       "</table>\n",
       "<p>216 rows × 4 columns</p>\n",
       "</div>"
      ],
      "text/plain": [
       "                    Cultivar Quantidade (Kg)   ano      Sem definição\n",
       "0                     TINTAS      10.448.228  1970                NaN\n",
       "1          Alicante Bouschet               -  1970                NaN\n",
       "2                   Ancelota               -  1970                NaN\n",
       "3                     Aramon               -  1970                NaN\n",
       "4                Alfrocheiro               -  1970                NaN\n",
       "..                       ...             ...   ...                ...\n",
       "8                     Italia           3.733  1970                NaN\n",
       "9   Rubi (Itália, Itália Ro)               -  1970                NaN\n",
       "10                     Total          60.876  1970                NaN\n",
       "0                        NaN       3.675.463  1970  Sem classificação\n",
       "1                        NaN       3.675.463  1970              Total\n",
       "\n",
       "[216 rows x 4 columns]"
      ]
     },
     "execution_count": 59,
     "metadata": {},
     "output_type": "execute_result"
    }
   ],
   "source": [
    "df_70"
   ]
  }
 ],
 "metadata": {
  "kernelspec": {
   "display_name": ".venvMAC",
   "language": "python",
   "name": "python3"
  },
  "language_info": {
   "codemirror_mode": {
    "name": "ipython",
    "version": 3
   },
   "file_extension": ".py",
   "mimetype": "text/x-python",
   "name": "python",
   "nbconvert_exporter": "python",
   "pygments_lexer": "ipython3",
   "version": "3.12.4"
  },
  "orig_nbformat": 4
 },
 "nbformat": 4,
 "nbformat_minor": 2
}
