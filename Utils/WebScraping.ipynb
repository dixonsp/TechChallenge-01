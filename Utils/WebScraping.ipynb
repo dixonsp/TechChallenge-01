{
 "cells": [
  {
   "cell_type": "code",
   "execution_count": 5,
   "metadata": {},
   "outputs": [],
   "source": [
    "from selenium import webdriver\n",
    "from selenium.webdriver.chrome.options import Options\n",
    "from fastapi import HTTPException\n",
    "import json\n",
    "from selenium.webdriver.common.by import By\n",
    "import time\n",
    "import datetime\n",
    "import pandas as pd\n",
    "from lxml import etree\n",
    "from io import StringIO"
   ]
  },
  {
   "cell_type": "code",
   "execution_count": 115,
   "metadata": {},
   "outputs": [],
   "source": [
    "anoInicio = 1970\n",
    "anoTermino = datetime.date.today().year"
   ]
  },
  {
   "cell_type": "code",
   "execution_count": 43,
   "metadata": {},
   "outputs": [],
   "source": [
    "def save_html_content(name:str, content:str, ano:int = None, subopt_name:str = None):\n",
    "    if (ano==None and subopt_name==None):\n",
    "        arquivo = f\"../arquivos/{name}.html\"\n",
    "    elif (ano!=None and subopt_name==None):\n",
    "        arquivo = f\"../arquivos/{name}_{ano}.html\"\n",
    "    elif (ano!=None and subopt_name!=None):\n",
    "        arquivo = f\"../arquivos/{name}_{subopt_name}_{ano}.html\"\n",
    "    \n",
    "    with open(arquivo, \"w\", encoding='utf-8') as file:\n",
    "        file.write(content)"
   ]
  },
  {
   "cell_type": "code",
   "execution_count": 54,
   "metadata": {},
   "outputs": [],
   "source": [
    "def read_html_content(name:str, ano:int = None, subopt_name:str = None):\n",
    "    if (ano==None and subopt_name==None):\n",
    "        arquivo = f\"../arquivos/{name}.html\"\n",
    "    elif (ano!=None and subopt_name==None):\n",
    "        arquivo = f\"../arquivos/{name}_{ano}.html\"\n",
    "    elif (ano!=None and subopt_name!=None):\n",
    "        arquivo = f\"../arquivos/{name}_{subopt_name}_{ano}.html\"\n",
    "    \n",
    "    with open(arquivo, \"r\", encoding='utf-8') as file:\n",
    "        return file"
   ]
  },
  {
   "cell_type": "code",
   "execution_count": 19,
   "metadata": {},
   "outputs": [],
   "source": [
    "options = Options()\n",
    "#executa o navegador sem a UI\n",
    "options.add_argument(\"--headless\")\n",
    "#disabilita o sandbox\n",
    "options.add_argument(\"--no-sandbox\")\n",
    "#disabilita dev shm\n",
    "options.add_argument(\"--disable-dev-shm-usage\")\n",
    "\n",
    "#iniciar o chrome\n",
    "driver = webdriver.Chrome(options=options)"
   ]
  },
  {
   "cell_type": "code",
   "execution_count": 23,
   "metadata": {},
   "outputs": [],
   "source": [
    "def getContent(driver:webdriver, url:str):\n",
    "    driver.get(url=url)\n",
    "    time.sleep(2)\n",
    "    return driver.page_source"
   ]
  },
  {
   "cell_type": "code",
   "execution_count": 47,
   "metadata": {},
   "outputs": [],
   "source": [
    "def Scrap(opt:int, opt_name:str, anoInicio:int = None, anoTermino:int = None, subopts=None):\n",
    "    if anoInicio == None and subopts == None:\n",
    "        url = f\"http://vitibrasil.cnpuv.embrapa.br/index.php?opcao=opt_0{opt}\"\n",
    "        html_content = getContent(driver=driver, url=url)\n",
    "        save_html_content(opt_name, html_content)\n",
    "    elif(anoInicio!=None and subopts==None):\n",
    "        print(f\"inicio:{anoInicio} - termino{anoTermino}\")\n",
    "        for ano in range(anoInicio, anoTermino):\n",
    "            print(f\"ano->{ano}\")\n",
    "            url = f\"http://vitibrasil.cnpuv.embrapa.br/index.php?ano={ano}&opcao=opt_0{opt}\"\n",
    "            html_content = getContent(driver=driver, url=url)\n",
    "            save_html_content(opt_name, html_content, ano=ano)\n",
    "    elif(anoInicio!=None and subopts!=None):\n",
    "        for subopt_name, subopt_value in subopts.items():\n",
    "            for ano in range(anoInicio, anoTermino):\n",
    "                url = f\"http://vitibrasil.cnpuv.embrapa.br/index.php?ano={ano}&opcao=opt_0{opt}&subopcao=subopt_0{subopt_value}\"\n",
    "                html_content = getContent(driver=driver, url=url)\n",
    "                save_html_content(opt_name, html_content, ano=ano, subopt_name=subopt_name)"
   ]
  },
  {
   "cell_type": "code",
   "execution_count": 32,
   "metadata": {},
   "outputs": [],
   "source": [
    "Scrap(opt=1, opt_name=\"apresentacao\")"
   ]
  },
  {
   "cell_type": "code",
   "execution_count": 37,
   "metadata": {},
   "outputs": [
    {
     "name": "stdout",
     "output_type": "stream",
     "text": [
      "inicio:1970 - termino1973\n",
      "ano->1970\n",
      "ano->1971\n",
      "ano->1972\n"
     ]
    }
   ],
   "source": [
    "Scrap(opt=2, opt_name=\"producao\", anoInicio=anoInicio, anoTermino=anoTermino)"
   ]
  },
  {
   "cell_type": "code",
   "execution_count": 49,
   "metadata": {},
   "outputs": [],
   "source": [
    "subopts = {\n",
    "    \"Viníferas\":\"1\"\n",
    "    , \"Americanas e híbridas\":\"2\"\n",
    "    , \"Uvas de mesa\":\"3\"\n",
    "    , \"Sem classificação\":\"4\"\n",
    "    }\n",
    "\n",
    "Scrap(opt=3, opt_name=\"processamento\", anoInicio=anoInicio, anoTermino=anoTermino, subopts=subopts)"
   ]
  },
  {
   "cell_type": "code",
   "execution_count": 50,
   "metadata": {},
   "outputs": [
    {
     "name": "stdout",
     "output_type": "stream",
     "text": [
      "inicio:1970 - termino1973\n",
      "ano->1970\n",
      "ano->1971\n",
      "ano->1972\n"
     ]
    }
   ],
   "source": [
    "Scrap(opt=4, opt_name=\"comercializacao\", anoInicio=anoInicio, anoTermino=anoTermino)"
   ]
  },
  {
   "cell_type": "code",
   "execution_count": 51,
   "metadata": {},
   "outputs": [],
   "source": [
    "subopts = {\n",
    "    \"Vinhos de mesa\":\"1\"\n",
    "    , \"Espumantes\":\"2\"\n",
    "    , \"Uvas frescas\":\"3\"\n",
    "    , \"Uvas passas\":\"4\"\n",
    "    , \"Suco de uva\":\"5\"\n",
    "    }\n",
    "Scrap(opt=5, opt_name=\"importacao\", anoInicio=anoInicio, anoTermino=anoTermino, subopts=subopts)"
   ]
  },
  {
   "cell_type": "code",
   "execution_count": 52,
   "metadata": {},
   "outputs": [],
   "source": [
    "subopts = {\n",
    "    \"Vinhos de mesa\":\"1\"\n",
    "    , \"Espumantes\":\"2\"\n",
    "    , \"Uvas frescas\":\"3\"\n",
    "    , \"Suco de uva\":\"4\"\n",
    "    }\n",
    "Scrap(opt=6, opt_name=\"exportacao\", anoInicio=anoInicio, anoTermino=anoTermino, subopts=subopts)"
   ]
  },
  {
   "cell_type": "code",
   "execution_count": 22,
   "metadata": {},
   "outputs": [],
   "source": [
    "Scrap(opt=7, opt_name=\"publicacao\")"
   ]
  },
  {
   "cell_type": "code",
   "execution_count": 53,
   "metadata": {},
   "outputs": [],
   "source": [
    "# Fechar o driver\n",
    "driver.quit()"
   ]
  },
  {
   "cell_type": "code",
   "execution_count": 130,
   "metadata": {},
   "outputs": [],
   "source": [
    "def CreateParquetFile(name:str, ano:int, table_elements:str, subopt_name:str = None):\n",
    "    # Lista para armazenar os DataFrames\n",
    "    dfs = []\n",
    "\n",
    "    for i, table in enumerate(table_elements):\n",
    "        # Obter o HTML da tabela\n",
    "        table_html = etree.tostring(table, pretty_print=True, encoding='unicode')\n",
    "        \n",
    "        # Converter o HTML da tabela em DataFrame usando pandas\n",
    "        df = pd.read_html(StringIO(table_html))[0]\n",
    "        dfs.append(df)\n",
    "\n",
    "    # Opcional: combinar todos os DataFrames em um único DataFrame\n",
    "    combined_df = pd.concat(dfs, ignore_index=True)\n",
    "\n",
    "    if (subopt_name==None):\n",
    "        arquivo_parquet = f\"../data/{name}_{ano}.parquet\"\n",
    "    else:\n",
    "        arquivo_parquet = f\"../data/{name}_{subopt_name}_{ano}.parquet\"\n",
    "\n",
    "    combined_df.to_parquet(arquivo_parquet, engine='pyarrow')"
   ]
  },
  {
   "cell_type": "code",
   "execution_count": 129,
   "metadata": {},
   "outputs": [],
   "source": [
    "def ProcessHtmlFileToParquet(name:str, ano:int, subopt_name:str = None):\n",
    "    if (subopt_name==None):\n",
    "        arquivo_html = f\"../arquivos/{name}_{ano}.html\"\n",
    "    else:\n",
    "        arquivo_html = f\"../arquivos/{name}_{subopt_name}_{ano}.html\"\n",
    "\n",
    "    with open(arquivo_html, \"r\", encoding=\"utf-8\") as htm_file:\n",
    "        html_content = htm_file.read()\n",
    "        parser = etree.HTMLParser()\n",
    "        tree = etree.fromstring(html_content, parser)\n",
    "        table_elements = tree.xpath('//table[contains(@class, \"tb_base\") and contains(@class, \"tb_dados\")]')\n",
    "        num_tables = len(table_elements)\n",
    "        CreateParquetFile(name=name, ano=ano, table_elements=table_elements, subopt_name=subopt_name)\n",
    "        "
   ]
  },
  {
   "cell_type": "code",
   "execution_count": 126,
   "metadata": {},
   "outputs": [],
   "source": [
    "name = \"producao\"\n",
    "for ano in range(anoInicio, anoTermino):\n",
    "    ProcessHtmlFileToParquet(name=name, ano=ano)"
   ]
  },
  {
   "cell_type": "code",
   "execution_count": 131,
   "metadata": {},
   "outputs": [],
   "source": [
    "name = \"processamento\"\n",
    "subopts = {\n",
    "    \"Viníferas\":\"1\"\n",
    "    , \"Americanas e híbridas\":\"2\"\n",
    "    , \"Uvas de mesa\":\"3\"\n",
    "    , \"Sem classificação\":\"4\"\n",
    "    }\n",
    "for subopt_name, subopt_value in subopts.items():\n",
    "    for ano in range(anoInicio, anoTermino):\n",
    "        ProcessHtmlFileToParquet(name=name, ano=ano, subopt_name=subopt_name)"
   ]
  },
  {
   "cell_type": "code",
   "execution_count": 132,
   "metadata": {},
   "outputs": [],
   "source": [
    "name = \"comercializacao\"\n",
    "for ano in range(anoInicio, anoTermino):\n",
    "    ProcessHtmlFileToParquet(name=name, ano=ano)"
   ]
  },
  {
   "cell_type": "code",
   "execution_count": 133,
   "metadata": {},
   "outputs": [],
   "source": [
    "name = \"importacao\"\n",
    "subopts = {\n",
    "    \"Vinhos de mesa\":\"1\"\n",
    "    , \"Espumantes\":\"2\"\n",
    "    , \"Uvas frescas\":\"3\"\n",
    "    , \"Uvas passas\":\"4\"\n",
    "    , \"Suco de uva\":\"5\"\n",
    "    }\n",
    "for subopt_name, subopt_value in subopts.items():\n",
    "    for ano in range(anoInicio, anoTermino):\n",
    "        ProcessHtmlFileToParquet(name=name, ano=ano, subopt_name=subopt_name)"
   ]
  },
  {
   "cell_type": "code",
   "execution_count": null,
   "metadata": {},
   "outputs": [],
   "source": [
    "name = \"exportacao\"\n",
    "subopts = {\n",
    "    \"Vinhos de mesa\":\"1\"\n",
    "    , \"Espumantes\":\"2\"\n",
    "    , \"Uvas frescas\":\"3\"\n",
    "    , \"Suco de uva\":\"4\"\n",
    "    }\n",
    "for subopt_name, subopt_value in subopts.items():\n",
    "    for ano in range(anoInicio, anoTermino):\n",
    "        ProcessHtmlFileToParquet(name=name, ano=ano, subopt_name=subopt_name)"
   ]
  }
 ],
 "metadata": {
  "kernelspec": {
   "display_name": ".venv",
   "language": "python",
   "name": "python3"
  },
  "language_info": {
   "codemirror_mode": {
    "name": "ipython",
    "version": 3
   },
   "file_extension": ".py",
   "mimetype": "text/x-python",
   "name": "python",
   "nbconvert_exporter": "python",
   "pygments_lexer": "ipython3",
   "version": "3.12.4"
  },
  "orig_nbformat": 4
 },
 "nbformat": 4,
 "nbformat_minor": 2
}
